{
  "nbformat": 4,
  "nbformat_minor": 0,
  "metadata": {
    "colab": {
      "name": "dataset.ipynb",
      "provenance": [],
      "collapsed_sections": []
    },
    "kernelspec": {
      "name": "python3",
      "display_name": "Python 3"
    },
    "language_info": {
      "name": "python"
    },
    "gpuClass": "standard"
  },
  "cells": [
    {
      "cell_type": "code",
      "source": [
        "import numpy as np\n",
        "import pandas as pd\n",
        "import matplotlib.pyplot as plt\n",
        "\n",
        "import pyupbit\n",
        "import mpl_finance\n",
        "from datetime import timedelta"
      ],
      "metadata": {
        "id": "DO9GoeMQa3kK"
      },
      "execution_count": null,
      "outputs": []
    },
    {
      "cell_type": "markdown",
      "source": [
        "# Data Preprocessing\n",
        "* Input : Candlestick Chart Image"
      ],
      "metadata": {
        "id": "9Ld2YMHqY-OO"
      }
    },
    {
      "cell_type": "code",
      "source": [
        "# Load data(pattern's starting point, ending point) and corresponding labels(pattern type)\n",
        "\n",
        "df = pd.read_csv('data.csv', usecols=['start', 'end', 'type'])   # 'data.csv' : labeled from raw data -> constructed ground truth\n",
        "df.head()"
      ],
      "metadata": {
        "colab": {
          "base_uri": "https://localhost:8080/",
          "height": 206
        },
        "id": "zUv3_dWAmD-f",
        "outputId": "6163ebd4-f8b8-4804-a3fa-04f89cad8d19"
      },
      "execution_count": null,
      "outputs": [
        {
          "output_type": "execute_result",
          "data": {
            "text/plain": [
              "                 start                  end type\n",
              "0  2019-05-06 09:15:00  2019-05-06 21:30:00  sym\n",
              "1  2019-05-10 12:20:00  2019-05-10 16:00:00  sym\n",
              "2  2019-05-11 15:30:00  2019-05-11 21:25:00  fal\n",
              "3  2019-05-23 22:15:00  2019-05-24 01:45:00  ris\n",
              "4  2019-05-24 07:35:00  2019-05-24 15:00:00  fal"
            ],
            "text/html": [
              "\n",
              "  <div id=\"df-5d42be14-fa86-4d2e-ac72-364901793237\">\n",
              "    <div class=\"colab-df-container\">\n",
              "      <div>\n",
              "<style scoped>\n",
              "    .dataframe tbody tr th:only-of-type {\n",
              "        vertical-align: middle;\n",
              "    }\n",
              "\n",
              "    .dataframe tbody tr th {\n",
              "        vertical-align: top;\n",
              "    }\n",
              "\n",
              "    .dataframe thead th {\n",
              "        text-align: right;\n",
              "    }\n",
              "</style>\n",
              "<table border=\"1\" class=\"dataframe\">\n",
              "  <thead>\n",
              "    <tr style=\"text-align: right;\">\n",
              "      <th></th>\n",
              "      <th>start</th>\n",
              "      <th>end</th>\n",
              "      <th>type</th>\n",
              "    </tr>\n",
              "  </thead>\n",
              "  <tbody>\n",
              "    <tr>\n",
              "      <th>0</th>\n",
              "      <td>2019-05-06 09:15:00</td>\n",
              "      <td>2019-05-06 21:30:00</td>\n",
              "      <td>sym</td>\n",
              "    </tr>\n",
              "    <tr>\n",
              "      <th>1</th>\n",
              "      <td>2019-05-10 12:20:00</td>\n",
              "      <td>2019-05-10 16:00:00</td>\n",
              "      <td>sym</td>\n",
              "    </tr>\n",
              "    <tr>\n",
              "      <th>2</th>\n",
              "      <td>2019-05-11 15:30:00</td>\n",
              "      <td>2019-05-11 21:25:00</td>\n",
              "      <td>fal</td>\n",
              "    </tr>\n",
              "    <tr>\n",
              "      <th>3</th>\n",
              "      <td>2019-05-23 22:15:00</td>\n",
              "      <td>2019-05-24 01:45:00</td>\n",
              "      <td>ris</td>\n",
              "    </tr>\n",
              "    <tr>\n",
              "      <th>4</th>\n",
              "      <td>2019-05-24 07:35:00</td>\n",
              "      <td>2019-05-24 15:00:00</td>\n",
              "      <td>fal</td>\n",
              "    </tr>\n",
              "  </tbody>\n",
              "</table>\n",
              "</div>\n",
              "      <button class=\"colab-df-convert\" onclick=\"convertToInteractive('df-5d42be14-fa86-4d2e-ac72-364901793237')\"\n",
              "              title=\"Convert this dataframe to an interactive table.\"\n",
              "              style=\"display:none;\">\n",
              "        \n",
              "  <svg xmlns=\"http://www.w3.org/2000/svg\" height=\"24px\"viewBox=\"0 0 24 24\"\n",
              "       width=\"24px\">\n",
              "    <path d=\"M0 0h24v24H0V0z\" fill=\"none\"/>\n",
              "    <path d=\"M18.56 5.44l.94 2.06.94-2.06 2.06-.94-2.06-.94-.94-2.06-.94 2.06-2.06.94zm-11 1L8.5 8.5l.94-2.06 2.06-.94-2.06-.94L8.5 2.5l-.94 2.06-2.06.94zm10 10l.94 2.06.94-2.06 2.06-.94-2.06-.94-.94-2.06-.94 2.06-2.06.94z\"/><path d=\"M17.41 7.96l-1.37-1.37c-.4-.4-.92-.59-1.43-.59-.52 0-1.04.2-1.43.59L10.3 9.45l-7.72 7.72c-.78.78-.78 2.05 0 2.83L4 21.41c.39.39.9.59 1.41.59.51 0 1.02-.2 1.41-.59l7.78-7.78 2.81-2.81c.8-.78.8-2.07 0-2.86zM5.41 20L4 18.59l7.72-7.72 1.47 1.35L5.41 20z\"/>\n",
              "  </svg>\n",
              "      </button>\n",
              "      \n",
              "  <style>\n",
              "    .colab-df-container {\n",
              "      display:flex;\n",
              "      flex-wrap:wrap;\n",
              "      gap: 12px;\n",
              "    }\n",
              "\n",
              "    .colab-df-convert {\n",
              "      background-color: #E8F0FE;\n",
              "      border: none;\n",
              "      border-radius: 50%;\n",
              "      cursor: pointer;\n",
              "      display: none;\n",
              "      fill: #1967D2;\n",
              "      height: 32px;\n",
              "      padding: 0 0 0 0;\n",
              "      width: 32px;\n",
              "    }\n",
              "\n",
              "    .colab-df-convert:hover {\n",
              "      background-color: #E2EBFA;\n",
              "      box-shadow: 0px 1px 2px rgba(60, 64, 67, 0.3), 0px 1px 3px 1px rgba(60, 64, 67, 0.15);\n",
              "      fill: #174EA6;\n",
              "    }\n",
              "\n",
              "    [theme=dark] .colab-df-convert {\n",
              "      background-color: #3B4455;\n",
              "      fill: #D2E3FC;\n",
              "    }\n",
              "\n",
              "    [theme=dark] .colab-df-convert:hover {\n",
              "      background-color: #434B5C;\n",
              "      box-shadow: 0px 1px 3px 1px rgba(0, 0, 0, 0.15);\n",
              "      filter: drop-shadow(0px 1px 2px rgba(0, 0, 0, 0.3));\n",
              "      fill: #FFFFFF;\n",
              "    }\n",
              "  </style>\n",
              "\n",
              "      <script>\n",
              "        const buttonEl =\n",
              "          document.querySelector('#df-5d42be14-fa86-4d2e-ac72-364901793237 button.colab-df-convert');\n",
              "        buttonEl.style.display =\n",
              "          google.colab.kernel.accessAllowed ? 'block' : 'none';\n",
              "\n",
              "        async function convertToInteractive(key) {\n",
              "          const element = document.querySelector('#df-5d42be14-fa86-4d2e-ac72-364901793237');\n",
              "          const dataTable =\n",
              "            await google.colab.kernel.invokeFunction('convertToInteractive',\n",
              "                                                     [key], {});\n",
              "          if (!dataTable) return;\n",
              "\n",
              "          const docLinkHtml = 'Like what you see? Visit the ' +\n",
              "            '<a target=\"_blank\" href=https://colab.research.google.com/notebooks/data_table.ipynb>data table notebook</a>'\n",
              "            + ' to learn more about interactive tables.';\n",
              "          element.innerHTML = '';\n",
              "          dataTable['output_type'] = 'display_data';\n",
              "          await google.colab.output.renderOutput(dataTable, element);\n",
              "          const docLink = document.createElement('div');\n",
              "          docLink.innerHTML = docLinkHtml;\n",
              "          element.appendChild(docLink);\n",
              "        }\n",
              "      </script>\n",
              "    </div>\n",
              "  </div>\n",
              "  "
            ]
          },
          "metadata": {},
          "execution_count": 4
        }
      ]
    },
    {
      "cell_type": "code",
      "source": [
        "# Draw candle stick chart for the first data\n",
        "\n",
        "ohlc = pyupbit.get_ohlcv(\"KRW-BTC\", interval=\"minute5\", count=60, to=pd.to_datetime(df.end[0])-timedelta(hours=8, minutes=55))   # get ohlc(open, high, low, close) values using pyupbit library\n",
        "fig = plt.figure(figsize=(8,4))\n",
        "ax = fig.add_subplot(111)\n",
        "mpl_finance.candlestick2_ohlc(ax, ohlc['open'], ohlc['high'], ohlc['low'], ohlc['close'], width=0.5, colorup='r', colordown='b')   # draw candlestick chart\n",
        "plt.show()"
      ],
      "metadata": {
        "colab": {
          "base_uri": "https://localhost:8080/",
          "height": 276
        },
        "id": "g80idMwqok0s",
        "outputId": "e853864e-1e0d-4fea-d8fd-564908faac58"
      },
      "execution_count": null,
      "outputs": [
        {
          "output_type": "display_data",
          "data": {
            "text/plain": [
              "<Figure size 576x288 with 1 Axes>"
            ],
            "image/png": "[encoded data removed]"
          },
          "metadata": {
            "needs_background": "light"
          }
        }
      ]
    },
    {
      "cell_type": "code",
      "source": [
        "# Draw candlestick chart and Save as image file(.png)\n",
        "\n",
        "for i in range(len(df)):\n",
        "  ohlc = pyupbit.get_ohlcv(\"KRW-BTC\", interval=\"minute5\", count=60, to=pd.to_datetime(df.end[i])-timedelta(hours=8, minutes=55))\n",
        "  fig = plt.figure(figsize=(8,4))\n",
        "  ax = fig.add_subplot(111)\n",
        "  mpl_finance.candlestick2_ohlc(ax, ohlc['open'], ohlc['high'], ohlc['low'], ohlc['close'], width=0.5, colorup='r', colordown='b')   # draw candlestick chart,\n",
        "  plt.savefig('input image path/'+str(df.type[i])+'/'+f'Plot {i+1}'+'.png')   # and save it as image file(.png)\n",
        "  plt.close(fig)"
      ],
      "metadata": {
        "id": "AlEU-5dEbs4o"
      },
      "execution_count": null,
      "outputs": []
    }
  ]
}