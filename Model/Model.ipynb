{
  "cells": [
    {
      "cell_type": "code",
      "execution_count": null,
      "metadata": {
        "id": "GAKv8DcOlUhm"
      },
      "outputs": [],
      "source": [
        "import numpy as np\n",
        "import pandas as pd\n",
        "import matplotlib.pyplot as plt\n",
        "\n",
        "# Data Load\n",
        "from tensorflow.keras.preprocessing.image import ImageDataGenerator\n",
        "\n",
        "# Model\n",
        "import tensorflow as tf\n",
        "from tensorflow.keras import Sequential\n",
        "from tensorflow.keras.layers import LSTM, Conv2D, MaxPool2D, Dropout, Flatten, Dense"
      ]
    },
    {
      "cell_type": "markdown",
      "source": [
        "# Data Load"
      ],
      "metadata": {
        "id": "pOYXLJ4T9ECR"
      }
    },
    {
      "cell_type": "code",
      "execution_count": null,
      "metadata": {
        "id": "iVg1j2b_lUhw"
      },
      "outputs": [],
      "source": [
        "width, height = 800, 400   # define the size of input image\n",
        "datagen = ImageDataGenerator(rescale=1/256.0, validation_split=0.2)   # generate batches of tensor image data"
      ]
    },
    {
      "cell_type": "code",
      "execution_count": null,
      "metadata": {
        "colab": {
          "base_uri": "https://localhost:8080/"
        },
        "id": "6ep0ut3QlUhx",
        "outputId": "7f307bd3-02fb-4d0f-a0e5-97c1747c9274"
      },
      "outputs": [
        {
          "output_type": "stream",
          "name": "stdout",
          "text": [
            "Found 337 images belonging to 5 classes.\n"
          ]
        }
      ],
      "source": [
        "# Generates batches of tensor image data for training\n",
        "trainDatagen = datagen.flow_from_directory(directory='/content/drive/MyDrive/Colab Notebooks/Image/',\n",
        "                                           target_size=(width,height),\n",
        "                                           color_mode='grayscale',\n",
        "                                           class_mode = 'categorical',\n",
        "                                           batch_size = 64,\n",
        "                                           subset='training')"
      ]
    },
    {
      "cell_type": "code",
      "execution_count": null,
      "metadata": {
        "colab": {
          "base_uri": "https://localhost:8080/"
        },
        "id": "FTYPbDs-lUhz",
        "outputId": "e8833c82-44de-4d1b-f58e-9136fc6d018b"
      },
      "outputs": [
        {
          "output_type": "stream",
          "name": "stdout",
          "text": [
            "Found 81 images belonging to 5 classes.\n"
          ]
        }
      ],
      "source": [
        "# Generates batches of tensor image data for validation(test)\n",
        "valDatagen = datagen.flow_from_directory(directory='/content/drive/MyDrive/Colab Notebooks/Image/',\n",
        "                                         target_size=(width,height),\n",
        "                                         color_mode='grayscale',\n",
        "                                         class_mode = 'categorical',\n",
        "                                         batch_size = 16,\n",
        "                                         subset='validation')"
      ]
    },
    {
      "cell_type": "code",
      "execution_count": null,
      "metadata": {
        "colab": {
          "base_uri": "https://localhost:8080/"
        },
        "id": "zgk1CiJxY7z8",
        "outputId": "d05e365b-c4b5-4413-9886-d1cda35bc2fe"
      },
      "outputs": [
        {
          "output_type": "stream",
          "name": "stdout",
          "text": [
            "(64, 800, 400, 1)\n",
            "(64, 5)\n"
          ]
        }
      ],
      "source": [
        "for image_batch, labels_batch in trainDatagen:\n",
        "  print(image_batch.shape)   # 출력 : (batch_size, target_size, channel)\n",
        "  print(labels_batch.shape)   # 출력 : shape of corresponding labels = (batch_size, # of labels)\n",
        "  break"
      ]
    },
    {
      "cell_type": "code",
      "execution_count": null,
      "metadata": {
        "colab": {
          "base_uri": "https://localhost:8080/"
        },
        "id": "aVx3SXyGnW9Z",
        "outputId": "3615ec74-0330-40ce-ecbe-ded756654ea2"
      },
      "outputs": [
        {
          "output_type": "stream",
          "name": "stdout",
          "text": [
            "{'asc': 0, 'des': 1, 'fal': 2, 'ris': 3, 'sym': 4}\n",
            "{'asc': 0, 'des': 1, 'fal': 2, 'ris': 3, 'sym': 4}\n"
          ]
        }
      ],
      "source": [
        "print(trainDatagen.class_indices)\n",
        "print(valDatagen.class_indices)"
      ]
    },
    {
      "cell_type": "markdown",
      "metadata": {
        "id": "4XSk57abQ1kB"
      },
      "source": [
        "# Model"
      ]
    },
    {
      "cell_type": "code",
      "execution_count": null,
      "metadata": {
        "id": "K_n8KkinlUh0"
      },
      "outputs": [],
      "source": [
        "'''Classificaion Model'''\n",
        "\n",
        "num_classes = 5   # 'asc'(Ascending Triangle), 'des'(Descending Triangle), 'fal'(Falling Wedge), 'ris'(Rising Wedge), 'sym'(Symmetric Triangle)\n",
        "\n",
        "model = Sequential()   # groups a linear stack of layers into a tensorflow.keras.Model\n",
        "\n",
        "# Conv2D\n",
        "model.add(Conv2D(32, (3, 3), activation='relu', input_shape=(800, 400, 1)))\n",
        "model.add(MaxPool2D((2, 2)))\n",
        "model.add(Dropout(0.2))\n",
        "\n",
        "model.add(Conv2D(64, (3, 3), activation='relu'))\n",
        "model.add(MaxPool2D((2, 2)))\n",
        "model.add(Dropout(0.2))\n",
        "\n",
        "model.add(Conv2D(64, (3, 3), activation='relu', name='target_layer'))   # the layer to be used in Grad-CAM (the last convolutional layer of Conv2D)\n",
        "\n",
        "model.add(Flatten())\n",
        "model.add(Dense(64, activation='relu'))\n",
        "model.add(Dropout(0.2))\n",
        "model.add(Dense(num_classes, activation='softmax'))"
      ]
    },
    {
      "cell_type": "code",
      "execution_count": null,
      "metadata": {
        "colab": {
          "base_uri": "https://localhost:8080/"
        },
        "id": "WRqk12r0lUh1",
        "outputId": "9f4058c3-7ca5-4e92-a877-f147b7e34b2f"
      },
      "outputs": [
        {
          "output_type": "stream",
          "name": "stdout",
          "text": [
            "Epoch 1/30\n",
            "6/6 [==============================] - 5s 819ms/step - loss: 1.6116 - accuracy: 0.3086 - val_loss: 1.5946 - val_accuracy: 0.3333\n",
            "Epoch 2/30\n",
            "6/6 [==============================] - 4s 653ms/step - loss: 1.5840 - accuracy: 0.3264 - val_loss: 1.6046 - val_accuracy: 0.3333\n",
            "Epoch 3/30\n",
            "6/6 [==============================] - 4s 700ms/step - loss: 1.5859 - accuracy: 0.2789 - val_loss: 1.5689 - val_accuracy: 0.3333\n",
            "Epoch 4/30\n",
            "6/6 [==============================] - 4s 701ms/step - loss: 1.5318 - accuracy: 0.3027 - val_loss: 1.4904 - val_accuracy: 0.3333\n",
            "Epoch 5/30\n",
            "6/6 [==============================] - 5s 708ms/step - loss: 1.4795 - accuracy: 0.3234 - val_loss: 1.3923 - val_accuracy: 0.3951\n",
            "Epoch 6/30\n",
            "6/6 [==============================] - 5s 709ms/step - loss: 1.3243 - accuracy: 0.4095 - val_loss: 1.2990 - val_accuracy: 0.4198\n",
            "Epoch 7/30\n",
            "6/6 [==============================] - 5s 719ms/step - loss: 1.2446 - accuracy: 0.3887 - val_loss: 1.2612 - val_accuracy: 0.3951\n",
            "Epoch 8/30\n",
            "6/6 [==============================] - 5s 711ms/step - loss: 1.1471 - accuracy: 0.4154 - val_loss: 1.2316 - val_accuracy: 0.4444\n",
            "Epoch 9/30\n",
            "6/6 [==============================] - 5s 714ms/step - loss: 1.0617 - accuracy: 0.4926 - val_loss: 1.2175 - val_accuracy: 0.4568\n",
            "Epoch 10/30\n",
            "6/6 [==============================] - 4s 699ms/step - loss: 0.9656 - accuracy: 0.5074 - val_loss: 1.2527 - val_accuracy: 0.4938\n",
            "Epoch 11/30\n",
            "6/6 [==============================] - 5s 707ms/step - loss: 0.8495 - accuracy: 0.5727 - val_loss: 1.2207 - val_accuracy: 0.5926\n",
            "Epoch 12/30\n",
            "6/6 [==============================] - 5s 707ms/step - loss: 0.8133 - accuracy: 0.6439 - val_loss: 1.2828 - val_accuracy: 0.5926\n",
            "Epoch 13/30\n",
            "6/6 [==============================] - 5s 707ms/step - loss: 0.7405 - accuracy: 0.6944 - val_loss: 1.2716 - val_accuracy: 0.6543\n",
            "Epoch 14/30\n",
            "6/6 [==============================] - 4s 661ms/step - loss: 0.6484 - accuracy: 0.7418 - val_loss: 1.3958 - val_accuracy: 0.6420\n",
            "Epoch 15/30\n",
            "6/6 [==============================] - 4s 795ms/step - loss: 0.5760 - accuracy: 0.7300 - val_loss: 1.4387 - val_accuracy: 0.6543\n",
            "Epoch 16/30\n",
            "6/6 [==============================] - 5s 704ms/step - loss: 0.5706 - accuracy: 0.7329 - val_loss: 1.5066 - val_accuracy: 0.6543\n",
            "Epoch 17/30\n",
            "6/6 [==============================] - 4s 698ms/step - loss: 0.5163 - accuracy: 0.7300 - val_loss: 1.6947 - val_accuracy: 0.6667\n",
            "Epoch 18/30\n",
            "6/6 [==============================] - 4s 661ms/step - loss: 0.4634 - accuracy: 0.7656 - val_loss: 1.7691 - val_accuracy: 0.6914\n",
            "Epoch 19/30\n",
            "6/6 [==============================] - 4s 661ms/step - loss: 0.4144 - accuracy: 0.7864 - val_loss: 1.9199 - val_accuracy: 0.6790\n",
            "Epoch 20/30\n",
            "6/6 [==============================] - 4s 702ms/step - loss: 0.4467 - accuracy: 0.7804 - val_loss: 1.9640 - val_accuracy: 0.6914\n",
            "Epoch 21/30\n",
            "6/6 [==============================] - 4s 660ms/step - loss: 0.4200 - accuracy: 0.8131 - val_loss: 1.9126 - val_accuracy: 0.7160\n",
            "Epoch 22/30\n",
            "6/6 [==============================] - 4s 698ms/step - loss: 0.3854 - accuracy: 0.8338 - val_loss: 2.2732 - val_accuracy: 0.7037\n",
            "Epoch 23/30\n",
            "6/6 [==============================] - 5s 707ms/step - loss: 0.3579 - accuracy: 0.8665 - val_loss: 1.9359 - val_accuracy: 0.6543\n",
            "Epoch 24/30\n",
            "6/6 [==============================] - 4s 797ms/step - loss: 0.3429 - accuracy: 0.8635 - val_loss: 2.2072 - val_accuracy: 0.7284\n",
            "Epoch 25/30\n",
            "6/6 [==============================] - 4s 800ms/step - loss: 0.3439 - accuracy: 0.8635 - val_loss: 2.2012 - val_accuracy: 0.6667\n",
            "Epoch 26/30\n",
            "6/6 [==============================] - 5s 709ms/step - loss: 0.3465 - accuracy: 0.8576 - val_loss: 2.2945 - val_accuracy: 0.6914\n",
            "Epoch 27/30\n",
            "6/6 [==============================] - 4s 704ms/step - loss: 0.2881 - accuracy: 0.8724 - val_loss: 2.5018 - val_accuracy: 0.6914\n",
            "Epoch 28/30\n",
            "6/6 [==============================] - 5s 707ms/step - loss: 0.2949 - accuracy: 0.8694 - val_loss: 1.9183 - val_accuracy: 0.6790\n",
            "Epoch 29/30\n",
            "6/6 [==============================] - 4s 789ms/step - loss: 0.3363 - accuracy: 0.8427 - val_loss: 2.3971 - val_accuracy: 0.6914\n",
            "Epoch 30/30\n",
            "6/6 [==============================] - 4s 703ms/step - loss: 0.2831 - accuracy: 0.8843 - val_loss: 2.5675 - val_accuracy: 0.7037\n"
          ]
        }
      ],
      "source": [
        "# Model Fitting & Training\n",
        "\n",
        "model.compile(optimizer='adam', loss='categorical_crossentropy', metrics=['accuracy'])\n",
        "\n",
        "history = model.fit(trainDatagen, epochs=30, validation_data = valDatagen)"
      ]
    },
    {
      "cell_type": "code",
      "execution_count": null,
      "metadata": {
        "colab": {
          "base_uri": "https://localhost:8080/",
          "height": 301
        },
        "id": "46XITGoelUh2",
        "outputId": "8983ff38-48a7-4248-8d6c-682b33e61630"
      },
      "outputs": [
        {
          "output_type": "execute_result",
          "data": {
            "text/plain": [
              "<matplotlib.legend.Legend at 0x7ff81c0b0750>"
            ]
          },
          "metadata": {},
          "execution_count": 41
        },
        {
          "output_type": "display_data",
          "data": {
            "text/plain": [
              "<Figure size 432x288 with 1 Axes>"
            ],
            "image/png": "[encoded data removed]"
          },
          "metadata": {
            "needs_background": "light"
          }
        }
      ],
      "source": [
        "# Accuracy Visualization\n",
        "\n",
        "plt.plot(history.history['accuracy'], label='Train Accuracy')\n",
        "plt.plot(history.history['val_accuracy'], label = 'Test Accuracy')\n",
        "plt.xlabel('Epoch')\n",
        "plt.ylabel('Accuracy')\n",
        "plt.ylim([0, 1])\n",
        "plt.legend(loc='lower right')"
      ]
    },
    {
      "cell_type": "code",
      "execution_count": null,
      "metadata": {
        "colab": {
          "base_uri": "https://localhost:8080/"
        },
        "id": "Ya-HaZwAeVPU",
        "outputId": "434e9ad4-b4ae-4d25-f6dd-af89aa93056b"
      },
      "outputs": [
        {
          "output_type": "stream",
          "name": "stdout",
          "text": [
            "6/6 [==============================] - 1s 83ms/step - loss: 2.5675 - accuracy: 0.7037\n",
            "Test Accuracy : 70.3704%\n"
          ]
        }
      ],
      "source": [
        "# Report Test Accuracy\n",
        "\n",
        "test_loss, test_acc = model.evaluate(valDatagen)\n",
        "print(f'Test Accuracy : {round(100*test_acc, 4)}%')"
      ]
    }
  ],
  "metadata": {
    "accelerator": "GPU",
    "colab": {
      "collapsed_sections": [],
      "name": "Model.ipynb",
      "provenance": []
    },
    "gpuClass": "standard",
    "kernelspec": {
      "display_name": "Python 3",
      "language": "python",
      "name": "python3"
    },
    "language_info": {
      "codemirror_mode": {
        "name": "ipython",
        "version": 3
      },
      "file_extension": ".py",
      "mimetype": "text/x-python",
      "name": "python",
      "nbconvert_exporter": "python",
      "pygments_lexer": "ipython3",
      "version": "3.8.3"
    }
  },
  "nbformat": 4,
  "nbformat_minor": 0
}